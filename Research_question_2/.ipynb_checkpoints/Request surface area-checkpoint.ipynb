{
 "cells": [
  {
   "cell_type": "code",
   "execution_count": 1,
   "metadata": {},
   "outputs": [],
   "source": [
    "import pandas as pd\n",
    "from sklearn.linear_model import LinearRegression\n",
    "from sklearn.preprocessing import PolynomialFeatures\n",
    "\n",
    "import requests"
   ]
  },
  {
   "cell_type": "code",
   "execution_count": 2,
   "metadata": {
    "scrolled": false
   },
   "outputs": [],
   "source": [
    "data = pd.read_excel('data_stedin_excel_min.xlsx')"
   ]
  },
  {
   "cell_type": "code",
   "execution_count": 3,
   "metadata": {},
   "outputs": [],
   "source": [
    "def get_surface(identification):\n",
    "    \n",
    "    opp = 0\n",
    "    \n",
    "    try:\n",
    "        # api-endpoint\n",
    "\n",
    "        identification = \"0\" + identification\n",
    "        URL = \"https://api.bag.acceptatie.kadaster.nl/lvbag/individuelebevragingen/v2/verblijfsobjecten/\" + identification\n",
    "\n",
    "        # defining a params dict for the parameters to be sent to the API \n",
    "        PARAMS = {'X-api-key': \"l73fc9d56260684900ab82d68ac5fe5d86\", \"Accept-Crs\": \"epsg:28992\"} \n",
    "\n",
    "        # sending get request and saving the response as response object \n",
    "        r = requests.get(url = URL, headers = PARAMS) \n",
    "\n",
    "        # extracting data in json format \n",
    "        data = r.json()\n",
    "\n",
    "        opp = data[\"verblijfsobject\"][\"oppervlakte\"]\n",
    "    except:\n",
    "        pass\n",
    "        \n",
    "    if opp == 0:\n",
    "        try:\n",
    "            # api-endpoint\n",
    "            URL = \"https://api.bag.acceptatie.kadaster.nl/lvbag/individuelebevragingen/v2/verblijfsobjecten/\" + identification\n",
    "\n",
    "            # defining a params dict for the parameters to be sent to the API \n",
    "            PARAMS = {'X-api-key': \"l73fc9d56260684900ab82d68ac5fe5d86\", \"Accept-Crs\": \"epsg:28992\"} \n",
    "\n",
    "            # sending get request and saving the response as response object \n",
    "            r = requests.get(url = URL, headers = PARAMS) \n",
    "\n",
    "            # extracting data in json format \n",
    "            data = r.json()\n",
    "\n",
    "            opp = data[\"verblijfsobject\"][\"oppervlakte\"]\n",
    "        except:\n",
    "            pass\n",
    "            \n",
    "    return opp"
   ]
  },
  {
   "cell_type": "code",
   "execution_count": 10,
   "metadata": {},
   "outputs": [
    {
     "name": "stdout",
     "output_type": "stream",
     "text": [
      "2729.088418006897\n"
     ]
    }
   ],
   "source": [
    "data = data[data['categorie_match'] =='PC6']\n",
    "clusters = data['CLUST'].unique()\n",
    "\n",
    "slimmed_data = pd.DataFrame(columns = data.columns)\n",
    "import time\n",
    "\n",
    "t = time.time()\n",
    "oppervlaktes = {}\n",
    "\n",
    "for i in clusters:\n",
    "    temp = data[data['CLUST'] == i]\n",
    "    opp = 0\n",
    "    smp = temp.sample()\n",
    "    smp = pd.DataFrame(smp)\n",
    "    opp = get_surface(str(smp.iloc[0,0]))\n",
    "        \n",
    "    oppervlaktes[i] = opp\n",
    "    \n",
    "elapsed = time.time() - t\n",
    "print(elapsed)"
   ]
  },
  {
   "cell_type": "code",
   "execution_count": 16,
   "metadata": {},
   "outputs": [],
   "source": [
    "data['oppervlakte'] = data['CLUST']\n",
    "\n",
    "data['oppervlakte'] = data['oppervlakte'].apply(lambda x: oppervlaktes[x])\n",
    "\n",
    "data.to_csv('verbruik_data_met_oppervlakte.csv')"
   ]
  }
 ],
 "metadata": {
  "kernelspec": {
   "display_name": "Python 3",
   "language": "python",
   "name": "python3"
  },
  "language_info": {
   "codemirror_mode": {
    "name": "ipython",
    "version": 3
   },
   "file_extension": ".py",
   "mimetype": "text/x-python",
   "name": "python",
   "nbconvert_exporter": "python",
   "pygments_lexer": "ipython3",
   "version": "3.6.4"
  }
 },
 "nbformat": 4,
 "nbformat_minor": 2
}
